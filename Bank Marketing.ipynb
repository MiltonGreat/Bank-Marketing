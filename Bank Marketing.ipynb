{
 "cells": [
  {
   "cell_type": "markdown",
   "id": "158809e7-6395-4058-b130-a28c0bfafbdb",
   "metadata": {},
   "source": [
    "# Bank Marketing"
   ]
  },
  {
   "cell_type": "code",
   "execution_count": 13,
   "id": "84686bd2-f190-492b-a8b3-296c35a23eeb",
   "metadata": {},
   "outputs": [],
   "source": [
    "import zipfile\n",
    "import os\n",
    "import pandas as pd\n",
    "from sklearn.model_selection import train_test_split\n",
    "from sklearn.preprocessing import StandardScaler, LabelEncoder\n",
    "from sklearn.linear_model import LogisticRegression\n",
    "from sklearn.preprocessing import OneHotEncoder\n",
    "from sklearn.compose import ColumnTransformer\n",
    "from sklearn.pipeline import Pipeline\n",
    "from sklearn.metrics import accuracy_score, confusion_matrix, classification_report"
   ]
  },
  {
   "cell_type": "code",
   "execution_count": 3,
   "id": "16523d27-7d89-4425-ad2e-98f009b22d0e",
   "metadata": {},
   "outputs": [
    {
     "name": "stdout",
     "output_type": "stream",
     "text": [
      "Files in extracted folder: ['bank-full.csv', 'bank-names.txt', 'bank.csv', 'case study.ipynb']\n"
     ]
    }
   ],
   "source": [
    "# Define file paths\n",
    "zip_file_path = 'Bank Marketing Dataset.zip'  # Path to your dataset zip file\n",
    "extracted_folder = 'Bank_Marketing_Data'     # Folder where the zip is extracted\n",
    "\n",
    "# Extract the zip file\n",
    "with zipfile.ZipFile(zip_file_path, 'r') as zip_ref:\n",
    "    zip_ref.extractall(extracted_folder)  # Extract to the folder\n",
    "\n",
    "# Check the contents of the extracted folder\n",
    "extracted_files = os.listdir(extracted_folder)\n",
    "print(f\"Files in extracted folder: {extracted_files}\")"
   ]
  },
  {
   "cell_type": "code",
   "execution_count": 4,
   "id": "7d356338-e943-484d-9892-a871ceef10a8",
   "metadata": {},
   "outputs": [
    {
     "name": "stdout",
     "output_type": "stream",
     "text": [
      "   age           job  marital  education default  balance housing loan  \\\n",
      "0   58    management  married   tertiary      no     2143     yes   no   \n",
      "1   44    technician   single  secondary      no       29     yes   no   \n",
      "2   33  entrepreneur  married  secondary      no        2     yes  yes   \n",
      "3   47   blue-collar  married    unknown      no     1506     yes   no   \n",
      "4   33       unknown   single    unknown      no        1      no   no   \n",
      "\n",
      "   contact  day month  duration  campaign  pdays  previous poutcome   y  \n",
      "0  unknown    5   may       261         1     -1         0  unknown  no  \n",
      "1  unknown    5   may       151         1     -1         0  unknown  no  \n",
      "2  unknown    5   may        76         1     -1         0  unknown  no  \n",
      "3  unknown    5   may        92         1     -1         0  unknown  no  \n",
      "4  unknown    5   may       198         1     -1         0  unknown  no  \n",
      "Index(['age', 'job', 'marital', 'education', 'default', 'balance', 'housing',\n",
      "       'loan', 'contact', 'day', 'month', 'duration', 'campaign', 'pdays',\n",
      "       'previous', 'poutcome', 'y'],\n",
      "      dtype='object')\n",
      "                age        balance           day      duration      campaign  \\\n",
      "count  45211.000000   45211.000000  45211.000000  45211.000000  45211.000000   \n",
      "mean      40.936210    1362.272058     15.806419    258.163080      2.763841   \n",
      "std       10.618762    3044.765829      8.322476    257.527812      3.098021   \n",
      "min       18.000000   -8019.000000      1.000000      0.000000      1.000000   \n",
      "25%       33.000000      72.000000      8.000000    103.000000      1.000000   \n",
      "50%       39.000000     448.000000     16.000000    180.000000      2.000000   \n",
      "75%       48.000000    1428.000000     21.000000    319.000000      3.000000   \n",
      "max       95.000000  102127.000000     31.000000   4918.000000     63.000000   \n",
      "\n",
      "              pdays      previous  \n",
      "count  45211.000000  45211.000000  \n",
      "mean      40.197828      0.580323  \n",
      "std      100.128746      2.303441  \n",
      "min       -1.000000      0.000000  \n",
      "25%       -1.000000      0.000000  \n",
      "50%       -1.000000      0.000000  \n",
      "75%       -1.000000      0.000000  \n",
      "max      871.000000    275.000000  \n",
      "age          0\n",
      "job          0\n",
      "marital      0\n",
      "education    0\n",
      "default      0\n",
      "balance      0\n",
      "housing      0\n",
      "loan         0\n",
      "contact      0\n",
      "day          0\n",
      "month        0\n",
      "duration     0\n",
      "campaign     0\n",
      "pdays        0\n",
      "previous     0\n",
      "poutcome     0\n",
      "y            0\n",
      "dtype: int64\n"
     ]
    }
   ],
   "source": [
    "# Load the dataset (use 'bank-full.csv' or 'bank.csv')\n",
    "csv_file_name = os.path.join(extracted_folder, 'bank-full.csv')  # Adjust to the correct file\n",
    "\n",
    "# Load the dataset into a DataFrame\n",
    "df = pd.read_csv(csv_file_name)\n",
    "\n",
    "# Inspect the first few rows to verify the data\n",
    "print(df.head())  # Display the first few rows of the dataset\n",
    "print(df.columns)  # Display the column names\n",
    "\n",
    "# Data Exploration\n",
    "# Display basic statistics\n",
    "print(df.describe())\n",
    "\n",
    "# Check for missing values\n",
    "print(df.isnull().sum())"
   ]
  },
  {
   "cell_type": "code",
   "execution_count": 5,
   "id": "172260b2-ce47-46c6-9df2-1816fa7f9e54",
   "metadata": {},
   "outputs": [],
   "source": [
    "# Data Preprocessing\n",
    "# Clean column names by removing any leading/trailing spaces\n",
    "df.columns = df.columns.str.strip()\n",
    "\n",
    "# Handle missing values for numerical and categorical columns\n",
    "df['age'] = df['age'].fillna(df['age'].median())  # For numerical columns\n",
    "df['job'] = df['job'].fillna(df['job'].mode()[0])  # For categorical columns\n",
    "df['marital'] = df['marital'].fillna(df['marital'].mode()[0])\n",
    "df['education'] = df['education'].fillna(df['education'].mode()[0])\n",
    "df['balance'] = df['balance'].fillna(df['balance'].median())  # For numerical columns\n",
    "\n",
    "# Convert 'y' column (target) to binary labels (yes=1, no=0)\n",
    "df['y'] = df['y'].map({'yes': 1, 'no': 0})\n"
   ]
  },
  {
   "cell_type": "code",
   "execution_count": 8,
   "id": "38aeed80-9f9d-4d6b-8bc5-b417c3851d79",
   "metadata": {},
   "outputs": [],
   "source": [
    "# Encode binary categorical columns ('loan', 'housing', 'default') using LabelEncoder\n",
    "binary_columns = ['loan', 'housing', 'default']\n",
    "label_encoder = LabelEncoder()\n",
    "\n",
    "for col in binary_columns:\n",
    "    df[col] = label_encoder.fit_transform(df[col])  # Transform 'yes' to 1 and 'no' to 0"
   ]
  },
  {
   "cell_type": "code",
   "execution_count": 9,
   "id": "a921b32b-1441-4dac-bade-6c57ed774b65",
   "metadata": {},
   "outputs": [],
   "source": [
    "# Step 7: One-hot encoding for other categorical columns\n",
    "categorical_cols = ['job', 'marital', 'education', 'contact', 'month', 'poutcome']\n",
    "df = pd.get_dummies(df, columns=categorical_cols, drop_first=True)\n",
    "\n",
    "# Step 8: Normalize numerical features (ONLY numerical columns)\n",
    "numerical_cols = ['age', 'balance', 'duration', 'campaign', 'pdays', 'previous']\n",
    "\n",
    "# Apply StandardScaler to numerical columns only\n",
    "scaler = StandardScaler()\n",
    "df[numerical_cols] = scaler.fit_transform(df[numerical_cols])"
   ]
  },
  {
   "cell_type": "code",
   "execution_count": 14,
   "id": "df508d25-f91b-4193-a219-8a5d831a7c46",
   "metadata": {},
   "outputs": [
    {
     "name": "stdout",
     "output_type": "stream",
     "text": [
      "Accuracy: 0.8425301338051532\n",
      "Confusion Matrix:\n",
      "[[6713 1239]\n",
      " [ 185  906]]\n",
      "Classification Report:\n",
      "              precision    recall  f1-score   support\n",
      "\n",
      "           0       0.97      0.84      0.90      7952\n",
      "           1       0.42      0.83      0.56      1091\n",
      "\n",
      "    accuracy                           0.84      9043\n",
      "   macro avg       0.70      0.84      0.73      9043\n",
      "weighted avg       0.91      0.84      0.86      9043\n",
      "\n"
     ]
    }
   ],
   "source": [
    "# Step 9: Prepare features (X) and target (y)\n",
    "X = df.drop('y', axis=1)  # Drop the target column 'y' to get the features\n",
    "y = df['y']  # The target column is 'y'\n",
    "\n",
    "# Step 10: Split the data into training and testing sets\n",
    "X_train, X_test, y_train, y_test = train_test_split(X, y, test_size=0.2, random_state=42)\n",
    "\n",
    "# Step 11: Initialize the Logistic Regression model\n",
    "model = LogisticRegression(max_iter=1000, class_weight='balanced')\n",
    "\n",
    "# Step 12: Train the model\n",
    "model.fit(X_train, y_train)\n",
    "\n",
    "# Step 13: Make predictions on the test set\n",
    "y_pred = model.predict(X_test)\n",
    "\n",
    "# Step 14: Evaluate the model\n",
    "print(f\"Accuracy: {accuracy_score(y_test, y_pred)}\")\n",
    "print(f\"Confusion Matrix:\\n{confusion_matrix(y_test, y_pred)}\")\n",
    "print(f\"Classification Report:\\n{classification_report(y_test, y_pred)}\")"
   ]
  }
 ],
 "metadata": {
  "kernelspec": {
   "display_name": "Python 3 (ipykernel)",
   "language": "python",
   "name": "python3"
  },
  "language_info": {
   "codemirror_mode": {
    "name": "ipython",
    "version": 3
   },
   "file_extension": ".py",
   "mimetype": "text/x-python",
   "name": "python",
   "nbconvert_exporter": "python",
   "pygments_lexer": "ipython3",
   "version": "3.12.4"
  }
 },
 "nbformat": 4,
 "nbformat_minor": 5
}
