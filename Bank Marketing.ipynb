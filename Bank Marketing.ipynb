{
 "cells": [
  {
   "cell_type": "markdown",
   "id": "158809e7-6395-4058-b130-a28c0bfafbdb",
   "metadata": {},
   "source": [
    "# Bank Marketing"
   ]
  },
  {
   "cell_type": "markdown",
   "id": "bc8e0806-2db0-4304-be2c-356526e02df5",
   "metadata": {},
   "source": [
    "This project demonstrated the application of machine learning techniques to predict customer behavior in a bank's marketing campaign. \n",
    "\n",
    "While the current model performs well for the majority class, there is room for improvement, especially with regard to predicting the minority class. Further optimization and experimentation with other algorithms will help improve overall performance."
   ]
  },
  {
   "cell_type": "code",
   "execution_count": 1,
   "id": "4e338d7e-4d03-479b-bd9b-4daffed370a6",
   "metadata": {},
   "outputs": [],
   "source": [
    "import zipfile\n",
    "import os\n",
    "import pandas as pd\n",
    "import numpy as np\n",
    "import matplotlib.pyplot as plt\n",
    "import seaborn as sns\n",
    "from sklearn.model_selection import train_test_split\n",
    "from sklearn.preprocessing import StandardScaler\n",
    "from sklearn.linear_model import LogisticRegression\n",
    "from sklearn.metrics import classification_report, confusion_matrix\n",
    "from imblearn.over_sampling import SMOTE"
   ]
  },
  {
   "cell_type": "code",
   "execution_count": 2,
   "id": "70871d23-5251-4a54-98c2-c5545d8143dd",
   "metadata": {},
   "outputs": [
    {
     "name": "stdout",
     "output_type": "stream",
     "text": [
      "Files in extracted folder: ['bank-full.csv', 'bank-names.txt', 'bank.csv', 'case study.ipynb']\n"
     ]
    }
   ],
   "source": [
    "# Define file paths\n",
    "zip_file_path = 'Bank Marketing Dataset.zip'  \n",
    "extracted_folder = 'Bank_Marketing_Data' \n",
    "\n",
    "# Extract the zip file\n",
    "with zipfile.ZipFile(zip_file_path, 'r') as zip_ref:\n",
    "    zip_ref.extractall(extracted_folder)  # Extract to the folder\n",
    "\n",
    "# Check the contents of the extracted folder\n",
    "extracted_files = os.listdir(extracted_folder)\n",
    "print(f\"Files in extracted folder: {extracted_files}\")"
   ]
  },
  {
   "cell_type": "code",
   "execution_count": 3,
   "id": "f1ec7d7f-c508-4f9d-a67d-1463e3933a78",
   "metadata": {},
   "outputs": [
    {
     "name": "stdout",
     "output_type": "stream",
     "text": [
      "   age           job  marital  education default  balance housing loan  \\\n",
      "0   58    management  married   tertiary      no     2143     yes   no   \n",
      "1   44    technician   single  secondary      no       29     yes   no   \n",
      "2   33  entrepreneur  married  secondary      no        2     yes  yes   \n",
      "3   47   blue-collar  married    unknown      no     1506     yes   no   \n",
      "4   33       unknown   single    unknown      no        1      no   no   \n",
      "\n",
      "   contact  day month  duration  campaign  pdays  previous poutcome   y  \n",
      "0  unknown    5   may       261         1     -1         0  unknown  no  \n",
      "1  unknown    5   may       151         1     -1         0  unknown  no  \n",
      "2  unknown    5   may        76         1     -1         0  unknown  no  \n",
      "3  unknown    5   may        92         1     -1         0  unknown  no  \n",
      "4  unknown    5   may       198         1     -1         0  unknown  no  \n",
      "Index(['age', 'job', 'marital', 'education', 'default', 'balance', 'housing',\n",
      "       'loan', 'contact', 'day', 'month', 'duration', 'campaign', 'pdays',\n",
      "       'previous', 'poutcome', 'y'],\n",
      "      dtype='object')\n"
     ]
    }
   ],
   "source": [
    "# Load the dataset (use 'bank-full.csv' or 'bank.csv')\n",
    "csv_file_name = os.path.join(extracted_folder, 'bank-full.csv')  # Adjust to the correct file\n",
    "df = pd.read_csv(csv_file_name)\n",
    "\n",
    "# Inspect the first few rows to verify the data\n",
    "print(df.head())\n",
    "print(df.columns)"
   ]
  },
  {
   "cell_type": "code",
   "execution_count": 7,
   "id": "d6c38c4c-3ff9-447e-a97f-8929af619b33",
   "metadata": {},
   "outputs": [],
   "source": [
    "# Data Preprocessing\n",
    "# Split the dataset (before one-hot encoding) and apply SMOTE\n",
    "X = df.drop(columns=['y'])\n",
    "y = df['y']\n",
    "\n",
    "# Apply one-hot encoding for categorical features\n",
    "X = pd.get_dummies(X, drop_first=True)\n",
    "\n",
    "# Split the dataset into training and testing sets\n",
    "X_train, X_test, y_train, y_test = train_test_split(X, y, test_size=0.3, random_state=42)\n",
    "\n",
    "# Handle class imbalance using SMOTE\n",
    "smote = SMOTE(sampling_strategy='auto', random_state=42)\n",
    "X_train_smote, y_train_smote = smote.fit_resample(X_train, y_train)\n",
    "\n",
    "# Standardize the features\n",
    "scaler = StandardScaler()\n",
    "X_train_smote = scaler.fit_transform(X_train_smote)\n",
    "X_test = scaler.transform(X_test)"
   ]
  },
  {
   "cell_type": "code",
   "execution_count": 8,
   "id": "618172a5-4a00-44cb-8022-47a36fca9fd8",
   "metadata": {},
   "outputs": [
    {
     "name": "stdout",
     "output_type": "stream",
     "text": [
      "              precision    recall  f1-score   support\n",
      "\n",
      "          no       0.93      0.94      0.93     11966\n",
      "         yes       0.50      0.45      0.48      1598\n",
      "\n",
      "    accuracy                           0.88     13564\n",
      "   macro avg       0.71      0.70      0.70     13564\n",
      "weighted avg       0.88      0.88      0.88     13564\n",
      "\n"
     ]
    }
   ],
   "source": [
    "# Train Logistic Regression with balanced class weights\n",
    "model = LogisticRegression(class_weight='balanced', random_state=42)\n",
    "model.fit(X_train_smote, y_train_smote)\n",
    "\n",
    "# Make predictions\n",
    "y_pred = model.predict(X_test)\n",
    "\n",
    "# Evaluate the model\n",
    "print(classification_report(y_test, y_pred))"
   ]
  },
  {
   "cell_type": "code",
   "execution_count": 9,
   "id": "8a9ab4a9-989e-436a-bddf-509ab55ec448",
   "metadata": {},
   "outputs": [
    {
     "data": {
      "image/png": "[encoded data removed]",
      "text/plain": [
       "<Figure size 640x480 with 2 Axes>"
      ]
     },
     "metadata": {},
     "output_type": "display_data"
    }
   ],
   "source": [
    "# Plot confusion matrix\n",
    "conf_matrix = confusion_matrix(y_test, y_pred)\n",
    "sns.heatmap(conf_matrix, annot=True, fmt=\"d\", cmap=\"Blues\", xticklabels=['no', 'yes'], yticklabels=['no', 'yes'])\n",
    "plt.xlabel('Predicted')\n",
    "plt.ylabel('Actual')\n",
    "plt.title('Confusion Matrix')\n",
    "plt.show()\n",
    "\n",
    "# Although the accuracy is high, the model is biased towards predicting the 'no' class due to the imbalance in the target variable. \n",
    "# Further steps can be taken to address this, such as tuning the model, trying different sampling methods, or using algorithms that\n",
    "# handle class imbalance better."
   ]
  },
  {
   "cell_type": "code",
   "execution_count": null,
   "id": "32f1a765-728a-4b6c-b0f5-1df0d3b22649",
   "metadata": {},
   "outputs": [],
   "source": [
    "# Next Steps\n",
    "\n",
    "# Hyperparameter Tuning: Try tuning the hyperparameters of the model to improve performance, especially for the minority class.\n",
    "# Model Improvement: Experiment with other models like Random Forest, XGBoost, or Neural Networks.\n",
    "# Feature Engineering: Investigate additional feature engineering techniques to improve model performance, such as interaction terms or domain-specific transformations."
   ]
  }
 ],
 "metadata": {
  "kernelspec": {
   "display_name": "Python 3 (ipykernel)",
   "language": "python",
   "name": "python3"
  },
  "language_info": {
   "codemirror_mode": {
    "name": "ipython",
    "version": 3
   },
   "file_extension": ".py",
   "mimetype": "text/x-python",
   "name": "python",
   "nbconvert_exporter": "python",
   "pygments_lexer": "ipython3",
   "version": "3.12.7"
  }
 },
 "nbformat": 4,
 "nbformat_minor": 5
}
